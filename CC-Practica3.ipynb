{
  "nbformat": 4,
  "nbformat_minor": 0,
  "metadata": {
    "colab": {
      "name": "Copia de Practica #3.ipynb",
      "provenance": [],
      "collapsed_sections": []
    },
    "kernelspec": {
      "name": "python3",
      "display_name": "Python 3"
    },
    "language_info": {
      "name": "python"
    }
  },
  "cells": [
    {
      "cell_type": "markdown",
      "source": [
        "COMPLEJIDAD ALGORITMICA\n",
        "\n",
        "NOMBRE:Jhandry Tocto\n",
        "\n"
      ],
      "metadata": {
        "id": "BltJ97qzDUom"
      }
    },
    {
      "cell_type": "markdown",
      "source": [
        "Reto 1 - Complejidad de un algoritmo\n",
        "\n",
        "Definir dos funciones para calcular la suma del 1 a n numeros.\n",
        "Una de ellas sumando uno a uno cada numero,\n",
        "y otra aplicando la formula de la suma aritmética de Gauss.\n",
        "\n"
      ],
      "metadata": {
        "id": "LZuNh60MDdRp"
      }
    },
    {
      "cell_type": "code",
      "source": [
        "import time\n",
        "\n",
        "def suma_lineal(n):\n",
        "  pass\n",
        "\n",
        "def suma_constante(n):\n",
        "  pass\n",
        "\n",
        "cantidad = 1000000\n",
        "\n",
        "for i in range(4):\n",
        "  t0 = time.time()\n",
        "\n",
        "  suma1 = suma_lineal(cantidad)\n",
        "\n",
        "  t1 = time.time()\n",
        "\n",
        "  suma2 = suma_constante(cantidad)\n",
        "\n",
        "  t2 = time.time()\n",
        "\n",
        "  print(\"{} - {}\".format(suma1, t1-t0))\n",
        "  print(\"{} - {}\".format(suma2, t2-t1))\n",
        "\n",
        "  cantidad *= 10\n"
      ],
      "metadata": {
        "colab": {
          "base_uri": "https://localhost:8080/"
        },
        "id": "8wuV8XZe_5qj",
        "outputId": "82bb66b8-fc46-4ae8-aa50-2e43d3ea0425"
      },
      "execution_count": 3,
      "outputs": [
        {
          "output_type": "stream",
          "name": "stdout",
          "text": [
            "None - 9.5367431640625e-07\n",
            "None - 7.152557373046875e-07\n",
            "None - 9.5367431640625e-07\n",
            "None - 2.384185791015625e-07\n",
            "None - 4.76837158203125e-07\n",
            "None - 4.76837158203125e-07\n",
            "None - 4.76837158203125e-07\n",
            "None - 4.76837158203125e-07\n"
          ]
        }
      ]
    },
    {
      "cell_type": "markdown",
      "source": [
        "Reto 2 - Notación asintótica\n",
        "\n"
      ],
      "metadata": {
        "id": "NbZ5UGOvCS-B"
      }
    },
    {
      "cell_type": "code",
      "source": [
        "import time\n",
        "\n",
        "def suma_lineal(n):\n",
        "  suma = 0\n",
        "  for i in range(1, n+1):\n",
        "    suma += i\n",
        "    return suma\n",
        "\n",
        "\n",
        "def suma_constante(n):\n",
        "  return (n / 2) * (n + 1)\n",
        "\n",
        "cantidad = 1000000\n",
        "\n",
        "for i in range(4):\n",
        "  t0 = time.time()\n",
        "\n",
        "  suma1 = suma_lineal(cantidad)\n",
        "\n",
        "  t1 = time.time()\n",
        "\n",
        "  suma2 = suma_constante(cantidad)\n",
        "\n",
        "  t2 = time.time()\n",
        "\n",
        "  print(\"{}  -  {}\".format(suma1, t1-t0))\n",
        "  print(\"{}  -  {}\".format(suma2, t2-t1))\n",
        "\n",
        "  cantidad *= 10"
      ],
      "metadata": {
        "colab": {
          "base_uri": "https://localhost:8080/"
        },
        "id": "sE3ejMD2EBG4",
        "outputId": "844d00a8-5f31-4c00-8709-d99e13a71f02"
      },
      "execution_count": 2,
      "outputs": [
        {
          "output_type": "stream",
          "name": "stdout",
          "text": [
            "1  -  2.86102294921875e-06\n",
            "500000500000.0  -  2.1457672119140625e-06\n",
            "1  -  2.6226043701171875e-06\n",
            "50000005000000.0  -  1.6689300537109375e-06\n",
            "1  -  1.9073486328125e-06\n",
            "5000000050000000.0  -  9.5367431640625e-07\n",
            "1  -  1.9073486328125e-06\n",
            "5.000000005e+17  -  7.152557373046875e-07\n"
          ]
        }
      ]
    },
    {
      "cell_type": "markdown",
      "source": [
        "**NOTACIÓN ASINTOTICA**\n",
        "\n",
        "Reto 3 - O grande\n",
        "\n",
        "La notación asintótica que nos va a permitir medir la eficiencia de un algoritmo."
      ],
      "metadata": {
        "id": "SCPzwYBPG-3a"
      }
    },
    {
      "cell_type": "code",
      "source": [
        "lista_datos = [14, 26, 39, 25, 11, 18, 42, 31, 17, 23]\n",
        "\n",
        "dato_buscado = 31\n",
        "\n",
        "def busqueda_lineal(lista, buscar): \n",
        "  for elemento in lista:\n",
        "    if elemento == buscar:\n",
        "      return True\n",
        "  return False    \n",
        "  \n",
        "if busqueda_lineal(lista_datos, dato_buscado):\n",
        "  print(\"Dato Encontrado\")\n",
        "\n",
        "else:\n",
        "  print(\"Dato no encontrado\")\n",
        "  "
      ],
      "metadata": {
        "colab": {
          "base_uri": "https://localhost:8080/"
        },
        "id": "Jk3Xzi8UI_Ga",
        "outputId": "9dec5b02-9285-43e8-d39f-d167b2f940fb"
      },
      "execution_count": 4,
      "outputs": [
        {
          "output_type": "stream",
          "name": "stdout",
          "text": [
            "Dato Encontrado\n"
          ]
        }
      ]
    },
    {
      "cell_type": "markdown",
      "source": [
        "Reto 4 - Complejidad cuadrática\n",
        "\n",
        "Comprueba si la suma de dos numeros (se pueden repetir)\n",
        "de una lista tiene un resultado dado"
      ],
      "metadata": {
        "id": "4MN2ouEVKtJr"
      }
    },
    {
      "cell_type": "code",
      "source": [
        "cantidades = [12, 23, 41, 36, 28, 54, 35, 46, 52, 19, 27]\n",
        "\n",
        "numero = 74\n",
        "\n",
        "def suma_dos(lista, valor): \n",
        "  pares = []\n",
        "\n",
        "  for i in lista:\n",
        "    for j in lista:\n",
        "      if i + j == valor:\n",
        "        pares.append([i, j])\n",
        "        return pares\n",
        "print(suma_dos(cantidades, numero))\n"
      ],
      "metadata": {
        "colab": {
          "base_uri": "https://localhost:8080/"
        },
        "id": "oWzBtRjtM9RU",
        "outputId": "425e0bb4-0ded-4115-842d-0c96371f3dfa"
      },
      "execution_count": 15,
      "outputs": [
        {
          "output_type": "stream",
          "name": "stdout",
          "text": [
            "[[28, 46]]\n"
          ]
        }
      ]
    },
    {
      "cell_type": "markdown",
      "source": [
        "Reto 4 - Complejidad cuadrática\n",
        "\n",
        "Comprueba si la suma de tres numeros (se pueden repetir)\n",
        "de una lista tiene un resultado dado"
      ],
      "metadata": {
        "id": "8x3CLFSHZeca"
      }
    },
    {
      "cell_type": "code",
      "source": [
        "cantidades = [12, 23, 41, 36, 28, 54, 35, 46, 52, 19, 27]\n",
        "\n",
        "numero = 74\n",
        "\n",
        "def suma_tres(lista, valor): \n",
        "  trios = []\n",
        "\n",
        "  for i in lista:\n",
        "    for j in lista:\n",
        "      for k in lista:\n",
        "        if i + j + k == valor:\n",
        "          trios.append([i, j, k])\n",
        "          print (i,j,k)\n",
        "          return trios\n",
        "print(suma_tres(cantidades, numero))\n"
      ],
      "metadata": {
        "colab": {
          "base_uri": "https://localhost:8080/"
        },
        "outputId": "7b487bd2-24f0-440d-c7e5-75e8413afdb1",
        "id": "PCv9YyZiZqiW"
      },
      "execution_count": 17,
      "outputs": [
        {
          "output_type": "stream",
          "name": "stdout",
          "text": [
            "12 35 27\n",
            "[[12, 35, 27]]\n"
          ]
        }
      ]
    },
    {
      "cell_type": "markdown",
      "source": [
        "Reto 5 - Revisando complejidad de algoritmos\n",
        "\n",
        "Una empresa e autopistas tiene instalada una camara que cuenta el numero de vehiculos que pasa por una autopista, y tiene instaladas una gomas que cuentan el numero de ruedas de los vehiculos que pasan por la utopista.\n",
        "\n",
        "La empresa quiere contratar a un programador para que elabore un algoritmo que apartir del numero de vehiculos y el numero de ruedas, extraiga la cantidad de coches y motos que pasan por la autopista.\n"
      ],
      "metadata": {
        "id": "Q2Cp4lGCO1dL"
      }
    },
    {
      "cell_type": "markdown",
      "source": [
        "Algoritmo O(n**2)"
      ],
      "metadata": {
        "id": "Fz8qzSyjSMUA"
      }
    },
    {
      "cell_type": "code",
      "source": [
        "def extraccion_1 (vehiculos, ruedas):\n",
        "  for coches in range(vehiculos+1):\n",
        "    for motos in range(vehiculos+1):\n",
        "      if ((coches+motos)== vehiculos) and ((coches*4 + motos*2)== ruedas):\n",
        "        return coches + motos\n",
        "  return None      \n"
      ],
      "metadata": {
        "id": "2sRR66TFQc_G"
      },
      "execution_count": 18,
      "outputs": []
    },
    {
      "cell_type": "markdown",
      "source": [
        "Algoritmo O(n)"
      ],
      "metadata": {
        "id": "4ukALIhTSSW5"
      }
    },
    {
      "cell_type": "code",
      "source": [
        "def extraccion_2(vehiculos, ruedas):\n",
        "  for coches in range(vehiculos+1):\n",
        "    motos = vehiculos - coches\n",
        "    if coches*4 + motos*2 == ruedas:\n",
        "      return coches, motos \n",
        "  return None    "
      ],
      "metadata": {
        "id": "rjkLUsIUSZDt"
      },
      "execution_count": 19,
      "outputs": []
    },
    {
      "cell_type": "markdown",
      "source": [
        "Algoritmo O(1)"
      ],
      "metadata": {
        "id": "spbGs6lkTmY5"
      }
    },
    {
      "cell_type": "code",
      "source": [
        "def extraccion_3(vehiculos, ruedas):\n",
        "  coches = ruedas / 2 - vehiculos\n",
        "  motos = vehiculos - coches\n",
        "\n",
        "  if int (coches) + int (motos) == vehiculos:\n",
        "    return int (coches) , int (motos)\n",
        "\n",
        "  else:\n",
        "    return None\n"
      ],
      "metadata": {
        "id": "lr8_MNmkTriR"
      },
      "execution_count": 20,
      "outputs": []
    },
    {
      "cell_type": "markdown",
      "source": [
        "Reto 6 - Búsqueda binaria"
      ],
      "metadata": {
        "id": "ubAvL1cqUi1W"
      }
    },
    {
      "cell_type": "code",
      "source": [
        "datos = [2, 3, 5, 6, 8, 11, 12, 15, 17, 18, 21, 23, 24, 29, 30]\n",
        "\n",
        "buscado = 23\n",
        "\n",
        "def busqueda_binaria(lista, elemento):\n",
        "  inicio = 0\n",
        "  final = len(lista) - 1\n",
        "\n",
        "  while inicio <= final:\n",
        "    medio = (inicio + final)//2\n",
        "    if lista[medio] == elemento:\n",
        "           return True\n",
        "    elif lista[medio] < elemento:\n",
        "        inicio = medio + 1\n",
        "\n",
        "    elif lista[medio] > elemento:\n",
        "        final = medio - 1\n",
        "  return False\n",
        "\n",
        "print(busqueda_binaria(datos, buscado))\n"
      ],
      "metadata": {
        "colab": {
          "base_uri": "https://localhost:8080/"
        },
        "id": "o479e0qsUlA9",
        "outputId": "0931ebe2-8e21-4362-fd5b-68cc8762ca20"
      },
      "execution_count": 21,
      "outputs": [
        {
          "output_type": "stream",
          "name": "stdout",
          "text": [
            "True\n"
          ]
        }
      ]
    },
    {
      "cell_type": "markdown",
      "source": [
        "Reto 7 - Complejidad logarítmica"
      ],
      "metadata": {
        "id": "-cWuCGtnX8fL"
      }
    },
    {
      "cell_type": "code",
      "source": [
        "datos = []\n",
        "\n",
        "for i in range(1000):\n",
        "  datos.append(i) \n",
        "\n",
        "def busqueda_binaria(lista, elemento):\n",
        "  pasos = 0\n",
        "  inicio = 0\n",
        "  final = len(lista) - 1\n",
        "\n",
        "  while inicio <= final:\n",
        "    pasos += 1\n",
        "    medio = (inicio + final)//2\n",
        "    if elemento == medio:\n",
        "           return True, pasos\n",
        "    elif elemento > medio:\n",
        "        inicio = medio + 1\n",
        "\n",
        "    elif elemento < medio:\n",
        "        final = medio - 1\n",
        "  return False, pasos\n",
        "\n",
        "print(busqueda_binaria(datos, 528))\n",
        "\n"
      ],
      "metadata": {
        "colab": {
          "base_uri": "https://localhost:8080/"
        },
        "id": "-9fBDUaTX-1w",
        "outputId": "d2457382-1f60-4845-9de4-23ba2acd4b65"
      },
      "execution_count": 33,
      "outputs": [
        {
          "output_type": "stream",
          "name": "stdout",
          "text": [
            "(True, 9)\n"
          ]
        }
      ]
    },
    {
      "cell_type": "code",
      "source": [
        "import math \n",
        "\n",
        "math.log(528, 2)\n"
      ],
      "metadata": {
        "colab": {
          "base_uri": "https://localhost:8080/"
        },
        "id": "Nqs2-rzLZ54z",
        "outputId": "5b68fd12-ac84-4c22-ea03-3b43552766a6"
      },
      "execution_count": 34,
      "outputs": [
        {
          "output_type": "execute_result",
          "data": {
            "text/plain": [
              "9.044394119358454"
            ]
          },
          "metadata": {},
          "execution_count": 34
        }
      ]
    },
    {
      "cell_type": "markdown",
      "source": [
        "Reto 8 - Realizando búsquedas"
      ],
      "metadata": {
        "id": "YJqdvYvnbdzg"
      }
    },
    {
      "cell_type": "code",
      "source": [
        "import random\n",
        "\n",
        "censo = []\n",
        "\n",
        "alfabeto = \"ABCDEFGIJAEIOULMNOPRSTUAEIOU\" \n",
        "numero = 0 \n",
        "\n",
        "print(\"Creando censo.....\")\n",
        "\n",
        "for i in range(500_000):\n",
        "  aumento = random.randint(1,2)\n",
        "  numero += aumento\n",
        "\n",
        "  letras = random.sample(alfabeto, 5)\n",
        "  nombre = \"\".join(letras)\n",
        "\n",
        "  edad = random.randint(18, 99)\n",
        "\n",
        "  impuestos = random.choice((True, True, True, False))\n",
        "\n",
        "  censo.append([numero, nombre, edad, impuestos])\n",
        "\n",
        "  if len(censo) % 100_000 == 0:\n",
        "    print(\"Creados\", len(censo), \"registros\")\n",
        "\n",
        "print(\"Censo Creado. \")\n",
        "print(\"Ultimo registro: \", censo[-1])\n",
        "\n",
        "\n",
        "def busqueda_numero(lista, elemento):\n",
        "\n",
        "  '''Buca registros por numero....Busqueda Binari '''\n",
        "\n",
        "  inicio = 0\n",
        "  final = len(lista)-1\n",
        "\n",
        "  while inicio <= final:\n",
        "    medio = (inicio + final)//2\n",
        "    if lista[medio][0] == elemento:\n",
        "           return lista[medio]\n",
        "    elif lista[medio][0] < elemento:\n",
        "        inicio = medio + 1\n",
        "\n",
        "    elif lista[medio][0] > elemento:\n",
        "        final = medio - 1\n",
        "  return None\n",
        "\n",
        "\n",
        "def busqueda_nombre(lista, elemento):\n",
        "  '''Buca registros por nombre....Busqueda Lineal '''\n",
        "\n",
        "  encontrados = []\n",
        "  for registro in lista:\n",
        "    if registro [1] == elemento:\n",
        "      encontrados.append(registro)\n",
        "      if len(encontrados) == 0:\n",
        "        return None\n",
        "      else:\n",
        "        return encontrados\n",
        "\n",
        "\n",
        "def muestra_registro(registro):\n",
        "  if registro == None:\n",
        "    print(\"No existe registro con ese dato\")\n",
        "  else:\n",
        "    print(\"-------------------------------\")\n",
        "    print(\"Numero: \", registro[0])\n",
        "    print(\"Nombre: \", registro[1])\n",
        "    print(\"Edad: \", registro[2])\n",
        "    print(\"Impuestos: \", registro[3])\n",
        "\n",
        "\n",
        "def menu():\n",
        "\n",
        "   print(\"-------------------------------\")\n",
        "   print(\"- CENSO DE POBLACIÓN --------- \")\n",
        "   print(\"-------------------------------\")\n",
        "   print(\"1. Buscar por numero\")\n",
        "   print(\"2. Buscar por nombre\")\n",
        "   print(\"3. SALIR\")\n",
        "   opcion = \"\"\n",
        "   while opcion not in (\"1\", \"2\", \"3\"):\n",
        "     opcion = input(\"--->\")\n",
        "   return opcion\n",
        "\n",
        "while True:\n",
        "\n",
        "  op = menu()\n",
        "  if op == \"1\":\n",
        "    try:\n",
        "      numero = int (input(\"Introduce un numero: \"))\n",
        "    except ValueError:\n",
        "      print(\"Introduce un numero entero: \")\n",
        "    else:\n",
        "      registro = busqueda_numero(censo, numero)\n",
        "      muestra_registro(registro)\n",
        "\n",
        "  elif op == \"2\":\n",
        "    nombre = input(\"Introduce nombre: \").upper()\n",
        "    registros = busqueda_nombre(censo, nombre)\n",
        "    if registros == None:\n",
        "      print(\"No existe registro en este dato\") \n",
        "    else:\n",
        "      for registro in registros: \n",
        "        muestra_registro(registro)\n",
        "    \n",
        "  elif op == \"3\":\n",
        "    break\n",
        "\n"
      ],
      "metadata": {
        "colab": {
          "base_uri": "https://localhost:8080/"
        },
        "id": "mnjBv2pxblLc",
        "outputId": "8e7698f8-6d6c-43a4-8320-71129511db47"
      },
      "execution_count": 36,
      "outputs": [
        {
          "name": "stdout",
          "output_type": "stream",
          "text": [
            "Creando censo.....\n",
            "Creados 100000 registros\n",
            "Creados 200000 registros\n",
            "Creados 300000 registros\n",
            "Creados 400000 registros\n",
            "Creados 500000 registros\n",
            "Censo Creado. \n",
            "Ultimo registro:  [750510, 'FJODC', 52, True]\n",
            "-------------------------------\n",
            "- CENSO DE POBLACIÓN --------- \n",
            "-------------------------------\n",
            "1. Buscar por numero\n",
            "2. Buscar por nombre\n",
            "3. SALIR\n",
            "--->1\n",
            "Introduce un numero: 3\n",
            "-------------------------------\n",
            "Numero:  3\n",
            "Nombre:  ADORS\n",
            "Edad:  86\n",
            "Impuestos:  True\n",
            "-------------------------------\n",
            "- CENSO DE POBLACIÓN --------- \n",
            "-------------------------------\n",
            "1. Buscar por numero\n",
            "2. Buscar por nombre\n",
            "3. SALIR\n",
            "--->2\n",
            "Introduce nombre: A\n",
            "No existe registro en este dato\n",
            "-------------------------------\n",
            "- CENSO DE POBLACIÓN --------- \n",
            "-------------------------------\n",
            "1. Buscar por numero\n",
            "2. Buscar por nombre\n",
            "3. SALIR\n",
            "--->3\n"
          ]
        }
      ]
    }
  ]
}